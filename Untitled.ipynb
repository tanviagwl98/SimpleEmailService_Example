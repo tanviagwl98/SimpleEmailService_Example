{
  "nbformat": 4,
  "nbformat_minor": 0,
  "metadata": {
    "colab": {
      "name": "Untitled",
      "provenance": [],
      "authorship_tag": "ABX9TyPD0nnLouaJ3AAQT7kN0fpX",
      "include_colab_link": true
    },
    "kernelspec": {
      "name": "python3",
      "display_name": "Python 3"
    }
  },
  "cells": [
    {
      "cell_type": "markdown",
      "metadata": {
        "id": "view-in-github",
        "colab_type": "text"
      },
      "source": [
        "<a href=\"https://colab.research.google.com/github/tanviagwl98/SimpleEmailService_Example/blob/master/Untitled.ipynb\" target=\"_parent\"><img src=\"https://colab.research.google.com/assets/colab-badge.svg\" alt=\"Open In Colab\"/></a>"
      ]
    },
    {
      "cell_type": "code",
      "metadata": {
        "id": "tegGyvGHKS2k",
        "colab_type": "code",
        "colab": {}
      },
      "source": [
        "import boto3\n",
        "client = boto3.client(\n",
        "    'ses',\n",
        "    region_name= 'us-east-1',\n",
        "    aws_access_key_id='use_your_aws_id',\n",
        "    aws_secret_access_key='use_your_key'\n",
        ")"
      ],
      "execution_count": 40,
      "outputs": []
    },
    {
      "cell_type": "code",
      "metadata": {
        "id": "O3FDHVnUKvsE",
        "colab_type": "code",
        "colab": {}
      },
      "source": [
        "response = client.send_email(\n",
        "    Destination={\n",
        "        'ToAddresses': ['tanvi98agwl@gmail.com'],\n",
        "    },\n",
        "    Message={\n",
        "        'Body': {\n",
        "            'Text': {\n",
        "                'Charset': 'UTF-8',\n",
        "                'Data': 'Hey, there I am sending you this mail with amazon SES.',\n",
        "            },\n",
        "        },\n",
        "        'Subject': {\n",
        "            'Charset': 'UTF-8',\n",
        "            'Data': 'This is a test email for SES task',\n",
        "        },\n",
        "    },\n",
        "    Source='tanvi98agwl@gmail.com',\n",
        ")"
      ],
      "execution_count": 42,
      "outputs": []
    },
    {
      "cell_type": "code",
      "metadata": {
        "id": "2J6rj24OQeyl",
        "colab_type": "code",
        "colab": {}
      },
      "source": [
        ""
      ],
      "execution_count": null,
      "outputs": []
    },
    {
      "cell_type": "code",
      "metadata": {
        "id": "cJ9Xt5HiRYj7",
        "colab_type": "code",
        "colab": {}
      },
      "source": [
        ""
      ],
      "execution_count": null,
      "outputs": []
    }
  ]
}